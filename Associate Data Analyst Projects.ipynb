{
 "cells": [
  {
   "cell_type": "markdown",
   "id": "3269df87-ee64-4aed-9ba3-22a6c67fa5e4",
   "metadata": {},
   "source": [
    "# Data Analyst Associate Case Study Submission"
   ]
  },
  {
   "cell_type": "markdown",
   "id": "4669d060-9fd8-4c08-ad26-a82503f1502f",
   "metadata": {},
   "source": [
    "## Company Background"
   ]
  },
  {
   "cell_type": "markdown",
   "id": "d8787272-e1ab-4253-b2ab-2767a1b04307",
   "metadata": {},
   "source": [
    "PetMind is a nationwide pet product retailer in the United States. With inflation hitting 41-year\n",
    "highs, the company is planning to reduce the cost of customer retention by improving brand\n",
    "loyalty. The first strategy is to launch a monthly pet box subscription in three months.\n",
    "The marketing team is preparing a list of popular products for the pet box subscription. The\n",
    "chief marketing officer wants to know whether the list should only include the products being\n",
    "purchased more than once."
   ]
  },
  {
   "cell_type": "markdown",
   "id": "79654c4e-cc69-4c0a-9141-0d4c79439eec",
   "metadata": {},
   "source": [
    "## Data Validation\n",
    "Before I procceded with my analysis, I ensured I perfomed thorough data validation and data wrangling to the dataset that was provided to me, my results are well explained below:\n",
    "\n",
    "The original data consist of 879 rows and 9 columns, namely; 'product_id','product_category', 'sale', 'price', 'vendor_id', 'pet_size', 'pet_type', 'rating', 'rebuy'.\n",
    "- I checked through the entire columns, \n",
    "- I observed no null values,neither were there any duplicated rows\n",
    "- The 'sales' column was already converted into float type from the spreadsheet before importing into Datacamp's workspace, it was then converted to int type.\n",
    "- The 'price' column was not altered.\n",
    "- I removed rows that contained 'rabbit' and 'hamster' from the 'pet_type' column, in accordance to the data set description.A total of 46 rows were removed, leaving 833 rows.\n",
    "- I replaced the values 1 and 0 with 'More than once' and 'Once' respectively in the 're-buy' column for better understanding.\n",
    "\n",
    "These are the info  on the remianing column and rows;\n",
    "- There are 11 unique product categories.\n",
    "- Ratings ranged between 1 and 10, all being within the expected range.\n",
    "- There are a total of 833 distinct vendors' id\n",
    "- There are 11 unique product categories.\n",
    "- There are 4 unique pet type.\n",
    "- There are 5 unique pet size.\n",
    "- the rebuy option contains 'More than once' and 'Once'.\n"
   ]
  },
  {
   "cell_type": "code",
   "execution_count": 21,
   "id": "d1e48794-ab93-45a6-8026-7cfa9088d64c",
   "metadata": {
    "executionTime": 84,
    "lastSuccessfullyExecutedCode": "#import the neccessary libaries needed, also import the csv file\nimport numpy as np\nimport pandas as pd\nimport matplotlib.pyplot as plt\ndf= pd.read_csv('pet_sales (1).csv')"
   },
   "outputs": [],
   "source": [
    "#import the neccessary libaries needed, also import the csv file\n",
    "import numpy as np\n",
    "import pandas as pd\n",
    "import matplotlib.pyplot as plt\n",
    "df= pd.read_csv('pet_sales (1).csv')"
   ]
  },
  {
   "cell_type": "code",
   "execution_count": 30,
   "id": "010628ff-e5a7-418b-b9c5-9c0eb33d80ab",
   "metadata": {
    "executionTime": 133,
    "lastSuccessfullyExecutedCode": "#Preview the first 5 rows\ndf.head()"
   },
   "outputs": [
    {
     "data": {
      "application/com.datacamp.data-table.v1+json": {
       "table": {
        "data": [
         {
          "index": 0,
          "pet_size": "small",
          "pet_type": "fish",
          "price": 94.81,
          "product_category": "Equipment",
          "product_id": 5040,
          "rating": 7,
          "re_buy": "More than once",
          "sales": 123000,
          "vendor_id": "VC_1605"
         },
         {
          "index": 1,
          "pet_size": "small",
          "pet_type": "cat",
          "price": 120.95,
          "product_category": "Toys",
          "product_id": 4567,
          "rating": 10,
          "re_buy": "Once",
          "sales": 61000,
          "vendor_id": "VC_1132"
         },
         {
          "index": 3,
          "pet_size": "large",
          "pet_type": "dog",
          "price": 241.27,
          "product_category": "Snack",
          "product_id": 4364,
          "rating": 1,
          "re_buy": "More than once",
          "sales": 69000,
          "vendor_id": "VC_929"
         },
         {
          "index": 4,
          "pet_size": "large",
          "pet_type": "dog",
          "price": 133.68,
          "product_category": "Supplements",
          "product_id": 4184,
          "rating": 10,
          "re_buy": "Once",
          "sales": 138000,
          "vendor_id": "VC_749"
         },
         {
          "index": 5,
          "pet_size": "large",
          "pet_type": "cat",
          "price": 51.6,
          "product_category": "Bedding",
          "product_id": 4609,
          "rating": 10,
          "re_buy": "Once",
          "sales": 183000,
          "vendor_id": "VC_1174"
         }
        ],
        "schema": {
         "fields": [
          {
           "name": "index",
           "type": "integer"
          },
          {
           "name": "product_id",
           "type": "integer"
          },
          {
           "name": "product_category",
           "type": "string"
          },
          {
           "name": "sales",
           "type": "integer"
          },
          {
           "name": "price",
           "type": "number"
          },
          {
           "name": "vendor_id",
           "type": "string"
          },
          {
           "name": "pet_size",
           "type": "string"
          },
          {
           "name": "pet_type",
           "type": "string"
          },
          {
           "name": "rating",
           "type": "integer"
          },
          {
           "name": "re_buy",
           "type": "string"
          }
         ],
         "pandas_version": "1.4.0",
         "primaryKey": [
          "index"
         ]
        }
       },
       "total_rows": 5,
       "truncation_type": null
      },
      "text/html": [
       "<div>\n",
       "<style scoped>\n",
       "    .dataframe tbody tr th:only-of-type {\n",
       "        vertical-align: middle;\n",
       "    }\n",
       "\n",
       "    .dataframe tbody tr th {\n",
       "        vertical-align: top;\n",
       "    }\n",
       "\n",
       "    .dataframe thead th {\n",
       "        text-align: right;\n",
       "    }\n",
       "</style>\n",
       "<table border=\"1\" class=\"dataframe\">\n",
       "  <thead>\n",
       "    <tr style=\"text-align: right;\">\n",
       "      <th></th>\n",
       "      <th>product_id</th>\n",
       "      <th>product_category</th>\n",
       "      <th>sales</th>\n",
       "      <th>price</th>\n",
       "      <th>vendor_id</th>\n",
       "      <th>pet_size</th>\n",
       "      <th>pet_type</th>\n",
       "      <th>rating</th>\n",
       "      <th>re_buy</th>\n",
       "    </tr>\n",
       "  </thead>\n",
       "  <tbody>\n",
       "    <tr>\n",
       "      <th>0</th>\n",
       "      <td>5040</td>\n",
       "      <td>Equipment</td>\n",
       "      <td>123000</td>\n",
       "      <td>94.81</td>\n",
       "      <td>VC_1605</td>\n",
       "      <td>small</td>\n",
       "      <td>fish</td>\n",
       "      <td>7</td>\n",
       "      <td>More than once</td>\n",
       "    </tr>\n",
       "    <tr>\n",
       "      <th>1</th>\n",
       "      <td>4567</td>\n",
       "      <td>Toys</td>\n",
       "      <td>61000</td>\n",
       "      <td>120.95</td>\n",
       "      <td>VC_1132</td>\n",
       "      <td>small</td>\n",
       "      <td>cat</td>\n",
       "      <td>10</td>\n",
       "      <td>Once</td>\n",
       "    </tr>\n",
       "    <tr>\n",
       "      <th>3</th>\n",
       "      <td>4364</td>\n",
       "      <td>Snack</td>\n",
       "      <td>69000</td>\n",
       "      <td>241.27</td>\n",
       "      <td>VC_929</td>\n",
       "      <td>large</td>\n",
       "      <td>dog</td>\n",
       "      <td>1</td>\n",
       "      <td>More than once</td>\n",
       "    </tr>\n",
       "    <tr>\n",
       "      <th>4</th>\n",
       "      <td>4184</td>\n",
       "      <td>Supplements</td>\n",
       "      <td>138000</td>\n",
       "      <td>133.68</td>\n",
       "      <td>VC_749</td>\n",
       "      <td>large</td>\n",
       "      <td>dog</td>\n",
       "      <td>10</td>\n",
       "      <td>Once</td>\n",
       "    </tr>\n",
       "    <tr>\n",
       "      <th>5</th>\n",
       "      <td>4609</td>\n",
       "      <td>Bedding</td>\n",
       "      <td>183000</td>\n",
       "      <td>51.60</td>\n",
       "      <td>VC_1174</td>\n",
       "      <td>large</td>\n",
       "      <td>cat</td>\n",
       "      <td>10</td>\n",
       "      <td>Once</td>\n",
       "    </tr>\n",
       "  </tbody>\n",
       "</table>\n",
       "</div>"
      ],
      "text/plain": [
       "   product_id product_category   sales   price vendor_id pet_size pet_type  \\\n",
       "0        5040        Equipment  123000   94.81   VC_1605    small     fish   \n",
       "1        4567             Toys   61000  120.95   VC_1132    small      cat   \n",
       "3        4364            Snack   69000  241.27    VC_929    large      dog   \n",
       "4        4184      Supplements  138000  133.68    VC_749    large      dog   \n",
       "5        4609          Bedding  183000   51.60   VC_1174    large      cat   \n",
       "\n",
       "   rating          re_buy  \n",
       "0       7  More than once  \n",
       "1      10            Once  \n",
       "3       1  More than once  \n",
       "4      10            Once  \n",
       "5      10            Once  "
      ]
     },
     "execution_count": 30,
     "metadata": {},
     "output_type": "execute_result"
    }
   ],
   "source": [
    "#Preview the first 5 rows\n",
    "df.head()"
   ]
  },
  {
   "cell_type": "code",
   "execution_count": 31,
   "id": "56eac016-90a4-4d10-900c-22381c2bcaaf",
   "metadata": {
    "executionTime": 82,
    "lastSuccessfullyExecutedCode": "#checked the information of each column\ndf.info()"
   },
   "outputs": [
    {
     "name": "stdout",
     "output_type": "stream",
     "text": [
      "<class 'pandas.core.frame.DataFrame'>\n",
      "Int64Index: 833 entries, 0 to 878\n",
      "Data columns (total 9 columns):\n",
      " #   Column            Non-Null Count  Dtype  \n",
      "---  ------            --------------  -----  \n",
      " 0   product_id        833 non-null    int64  \n",
      " 1   product_category  833 non-null    object \n",
      " 2   sales             833 non-null    int64  \n",
      " 3   price             833 non-null    float64\n",
      " 4   vendor_id         833 non-null    object \n",
      " 5   pet_size          833 non-null    object \n",
      " 6   pet_type          833 non-null    object \n",
      " 7   rating            833 non-null    int64  \n",
      " 8   re_buy            833 non-null    object \n",
      "dtypes: float64(1), int64(3), object(5)\n",
      "memory usage: 65.1+ KB\n"
     ]
    }
   ],
   "source": [
    "#checked the information of each column\n",
    "df.info()"
   ]
  },
  {
   "cell_type": "code",
   "execution_count": 24,
   "id": "621a4fe4-36b0-4655-b6e9-f6679ea4a7b1",
   "metadata": {
    "executionTime": 82,
    "lastSuccessfullyExecutedCode": "#check for total number of duplicated rows\ndf.duplicated().sum()"
   },
   "outputs": [
    {
     "data": {
      "text/plain": [
       "0"
      ]
     },
     "execution_count": 24,
     "metadata": {},
     "output_type": "execute_result"
    }
   ],
   "source": [
    "#check for total number of duplicated rows\n",
    "df.duplicated().sum()"
   ]
  },
  {
   "cell_type": "code",
   "execution_count": 25,
   "id": "2babc3d0-85fe-486c-96b1-933e578159cb",
   "metadata": {
    "executionTime": 148,
    "lastSuccessfullyExecutedCode": "##Quick preview of the dataset\ndf.describe()"
   },
   "outputs": [
    {
     "data": {
      "application/com.datacamp.data-table.v1+json": {
       "table": {
        "data": [
         {
          "index": "count",
          "price": 879,
          "product_id": 879,
          "rating": 879,
          "re_buy": 879,
          "sales": 879
         },
         {
          "index": "mean",
          "price": 128.2122525597,
          "product_id": 4611,
          "rating": 6.5005688282,
          "re_buy": 0.4664391354,
          "sales": 116094.425483504
         },
         {
          "index": "std",
          "price": 71.923583215,
          "product_id": 253.8897398478,
          "rating": 2.8528349237,
          "re_buy": 0.4991564119,
          "sales": 66297.2972327682
         },
         {
          "index": "min",
          "price": 0.35,
          "product_id": 4172,
          "rating": 1,
          "re_buy": 0,
          "sales": 3000
         },
         {
          "index": "25%",
          "price": 65.21,
          "product_id": 4391.5,
          "rating": 5,
          "re_buy": 0,
          "sales": 60500
         },
         {
          "index": "50%",
          "price": 129.52,
          "product_id": 4611,
          "rating": 6,
          "re_buy": 0,
          "sales": 116000
         },
         {
          "index": "75%",
          "price": 188.22,
          "product_id": 4830.5,
          "rating": 10,
          "re_buy": 1,
          "sales": 177000
         },
         {
          "index": "max",
          "price": 252.69,
          "product_id": 5050,
          "rating": 10,
          "re_buy": 1,
          "sales": 230000
         }
        ],
        "schema": {
         "fields": [
          {
           "name": "index",
           "type": "string"
          },
          {
           "name": "product_id",
           "type": "number"
          },
          {
           "name": "sales",
           "type": "number"
          },
          {
           "name": "price",
           "type": "number"
          },
          {
           "name": "rating",
           "type": "number"
          },
          {
           "name": "re_buy",
           "type": "number"
          }
         ],
         "pandas_version": "1.4.0",
         "primaryKey": [
          "index"
         ]
        }
       },
       "total_rows": 8,
       "truncation_type": null
      },
      "text/html": [
       "<div>\n",
       "<style scoped>\n",
       "    .dataframe tbody tr th:only-of-type {\n",
       "        vertical-align: middle;\n",
       "    }\n",
       "\n",
       "    .dataframe tbody tr th {\n",
       "        vertical-align: top;\n",
       "    }\n",
       "\n",
       "    .dataframe thead th {\n",
       "        text-align: right;\n",
       "    }\n",
       "</style>\n",
       "<table border=\"1\" class=\"dataframe\">\n",
       "  <thead>\n",
       "    <tr style=\"text-align: right;\">\n",
       "      <th></th>\n",
       "      <th>product_id</th>\n",
       "      <th>sales</th>\n",
       "      <th>price</th>\n",
       "      <th>rating</th>\n",
       "      <th>re_buy</th>\n",
       "    </tr>\n",
       "  </thead>\n",
       "  <tbody>\n",
       "    <tr>\n",
       "      <th>count</th>\n",
       "      <td>879.00000</td>\n",
       "      <td>879.000000</td>\n",
       "      <td>879.000000</td>\n",
       "      <td>879.000000</td>\n",
       "      <td>879.000000</td>\n",
       "    </tr>\n",
       "    <tr>\n",
       "      <th>mean</th>\n",
       "      <td>4611.00000</td>\n",
       "      <td>116094.425484</td>\n",
       "      <td>128.212253</td>\n",
       "      <td>6.500569</td>\n",
       "      <td>0.466439</td>\n",
       "    </tr>\n",
       "    <tr>\n",
       "      <th>std</th>\n",
       "      <td>253.88974</td>\n",
       "      <td>66297.297233</td>\n",
       "      <td>71.923583</td>\n",
       "      <td>2.852835</td>\n",
       "      <td>0.499156</td>\n",
       "    </tr>\n",
       "    <tr>\n",
       "      <th>min</th>\n",
       "      <td>4172.00000</td>\n",
       "      <td>3000.000000</td>\n",
       "      <td>0.350000</td>\n",
       "      <td>1.000000</td>\n",
       "      <td>0.000000</td>\n",
       "    </tr>\n",
       "    <tr>\n",
       "      <th>25%</th>\n",
       "      <td>4391.50000</td>\n",
       "      <td>60500.000000</td>\n",
       "      <td>65.210000</td>\n",
       "      <td>5.000000</td>\n",
       "      <td>0.000000</td>\n",
       "    </tr>\n",
       "    <tr>\n",
       "      <th>50%</th>\n",
       "      <td>4611.00000</td>\n",
       "      <td>116000.000000</td>\n",
       "      <td>129.520000</td>\n",
       "      <td>6.000000</td>\n",
       "      <td>0.000000</td>\n",
       "    </tr>\n",
       "    <tr>\n",
       "      <th>75%</th>\n",
       "      <td>4830.50000</td>\n",
       "      <td>177000.000000</td>\n",
       "      <td>188.220000</td>\n",
       "      <td>10.000000</td>\n",
       "      <td>1.000000</td>\n",
       "    </tr>\n",
       "    <tr>\n",
       "      <th>max</th>\n",
       "      <td>5050.00000</td>\n",
       "      <td>230000.000000</td>\n",
       "      <td>252.690000</td>\n",
       "      <td>10.000000</td>\n",
       "      <td>1.000000</td>\n",
       "    </tr>\n",
       "  </tbody>\n",
       "</table>\n",
       "</div>"
      ],
      "text/plain": [
       "       product_id          sales       price      rating      re_buy\n",
       "count   879.00000     879.000000  879.000000  879.000000  879.000000\n",
       "mean   4611.00000  116094.425484  128.212253    6.500569    0.466439\n",
       "std     253.88974   66297.297233   71.923583    2.852835    0.499156\n",
       "min    4172.00000    3000.000000    0.350000    1.000000    0.000000\n",
       "25%    4391.50000   60500.000000   65.210000    5.000000    0.000000\n",
       "50%    4611.00000  116000.000000  129.520000    6.000000    0.000000\n",
       "75%    4830.50000  177000.000000  188.220000   10.000000    1.000000\n",
       "max    5050.00000  230000.000000  252.690000   10.000000    1.000000"
      ]
     },
     "execution_count": 25,
     "metadata": {},
     "output_type": "execute_result"
    }
   ],
   "source": [
    "##Quick preview of the dataset\n",
    "df.describe()"
   ]
  },
  {
   "cell_type": "code",
   "execution_count": 26,
   "id": "fccad931-b6f3-401c-a088-39dd1aa75a1c",
   "metadata": {
    "executionTime": 164,
    "lastSuccessfullyExecutedCode": "#quick profiling of non numerical columns\ndf.describe(include='O')"
   },
   "outputs": [
    {
     "data": {
      "application/com.datacamp.data-table.v1+json": {
       "table": {
        "data": [
         {
          "index": "count",
          "pet_size": 879,
          "pet_type": 879,
          "product_category": 879,
          "vendor_id": 879
         },
         {
          "index": "unique",
          "pet_size": 5,
          "pet_type": 6,
          "product_category": 11,
          "vendor_id": 879
         },
         {
          "index": "top",
          "pet_size": "small",
          "pet_type": "cat",
          "product_category": "Equipment",
          "vendor_id": "VC_1605"
         },
         {
          "index": "freq",
          "pet_size": 280,
          "pet_type": 347,
          "product_category": 141,
          "vendor_id": 1
         }
        ],
        "schema": {
         "fields": [
          {
           "name": "index",
           "type": "string"
          },
          {
           "name": "product_category",
           "type": "string"
          },
          {
           "name": "vendor_id",
           "type": "string"
          },
          {
           "name": "pet_size",
           "type": "string"
          },
          {
           "name": "pet_type",
           "type": "string"
          }
         ],
         "pandas_version": "1.4.0",
         "primaryKey": [
          "index"
         ]
        }
       },
       "total_rows": 4,
       "truncation_type": null
      },
      "text/html": [
       "<div>\n",
       "<style scoped>\n",
       "    .dataframe tbody tr th:only-of-type {\n",
       "        vertical-align: middle;\n",
       "    }\n",
       "\n",
       "    .dataframe tbody tr th {\n",
       "        vertical-align: top;\n",
       "    }\n",
       "\n",
       "    .dataframe thead th {\n",
       "        text-align: right;\n",
       "    }\n",
       "</style>\n",
       "<table border=\"1\" class=\"dataframe\">\n",
       "  <thead>\n",
       "    <tr style=\"text-align: right;\">\n",
       "      <th></th>\n",
       "      <th>product_category</th>\n",
       "      <th>vendor_id</th>\n",
       "      <th>pet_size</th>\n",
       "      <th>pet_type</th>\n",
       "    </tr>\n",
       "  </thead>\n",
       "  <tbody>\n",
       "    <tr>\n",
       "      <th>count</th>\n",
       "      <td>879</td>\n",
       "      <td>879</td>\n",
       "      <td>879</td>\n",
       "      <td>879</td>\n",
       "    </tr>\n",
       "    <tr>\n",
       "      <th>unique</th>\n",
       "      <td>11</td>\n",
       "      <td>879</td>\n",
       "      <td>5</td>\n",
       "      <td>6</td>\n",
       "    </tr>\n",
       "    <tr>\n",
       "      <th>top</th>\n",
       "      <td>Equipment</td>\n",
       "      <td>VC_1605</td>\n",
       "      <td>small</td>\n",
       "      <td>cat</td>\n",
       "    </tr>\n",
       "    <tr>\n",
       "      <th>freq</th>\n",
       "      <td>141</td>\n",
       "      <td>1</td>\n",
       "      <td>280</td>\n",
       "      <td>347</td>\n",
       "    </tr>\n",
       "  </tbody>\n",
       "</table>\n",
       "</div>"
      ],
      "text/plain": [
       "       product_category vendor_id pet_size pet_type\n",
       "count               879       879      879      879\n",
       "unique               11       879        5        6\n",
       "top           Equipment   VC_1605    small      cat\n",
       "freq                141         1      280      347"
      ]
     },
     "execution_count": 26,
     "metadata": {},
     "output_type": "execute_result"
    }
   ],
   "source": [
    "#quick profiling of non numerical columns\n",
    "df.describe(include='O')"
   ]
  },
  {
   "cell_type": "markdown",
   "id": "08b89938-8533-4abb-b649-59a29dc40397",
   "metadata": {},
   "source": [
    "## Data Wrangling"
   ]
  },
  {
   "cell_type": "code",
   "execution_count": 27,
   "id": "e91c1ffd-a486-4c00-b2b6-af4c064260a2",
   "metadata": {
    "executionTime": 97,
    "lastSuccessfullyExecutedCode": "# convert the 'sales' column into int type\ndf['sales']= df['sales'].astype(int)"
   },
   "outputs": [],
   "source": [
    "# convert the 'sales' column into int type\n",
    "df['sales']= df['sales'].astype(int)"
   ]
  },
  {
   "cell_type": "code",
   "execution_count": 28,
   "id": "c6d9dfed-3a44-493a-a826-49a5e780b474",
   "metadata": {
    "executionTime": 65,
    "lastSuccessfullyExecutedCode": "# replace 1 and 0 with Yes and No respectively on the re-buy column\ndf['re_buy'].replace([1,0],['More than once','Once'], inplace=True)"
   },
   "outputs": [],
   "source": [
    "# replace 1 and 0 with Yes and No respectively on the re-buy column\n",
    "df['re_buy'].replace([1,0],['More than once','Once'], inplace=True)"
   ]
  },
  {
   "cell_type": "code",
   "execution_count": 29,
   "id": "8b34911f-1041-4b2f-9289-23c3025f88ef",
   "metadata": {
    "executionTime": 78,
    "lastSuccessfullyExecutedCode": "#drop list of rows containg pet type that should be excluded in the 'pet_type' column\ndf.drop(df[np.logical_or(df.iloc[:,6]== 'rabbit', df.iloc[:,6]== 'hamster')].index, inplace= True)"
   },
   "outputs": [],
   "source": [
    "#drop list of rows containg pet type that should be excluded in the 'pet_type' column\n",
    "df.drop(df[np.logical_or(df.iloc[:,6]== 'rabbit', df.iloc[:,6]== 'hamster')].index, inplace= True)"
   ]
  },
  {
   "cell_type": "markdown",
   "id": "8503fc22-9a89-41e3-a603-cf09c3540e72",
   "metadata": {},
   "source": [
    "## Customer's Questions\n",
    "The marketing team would like to answer the following questions to help with the decision:\n",
    "- How many products are being purchased more than once?\n",
    "- Do the products being purchased again have better sales than others?\n",
    "- What products are more likely to be purchased again for different types of pets?\n"
   ]
  },
  {
   "cell_type": "markdown",
   "id": "f2b2d6e4-a727-4329-a225-d9120cc02f50",
   "metadata": {},
   "source": [
    "## 1. How many products are being purchased more than once?"
   ]
  },
  {
   "cell_type": "code",
   "execution_count": 17,
   "id": "96b6a0b0-1099-4b24-b5e7-e091fb828b73",
   "metadata": {
    "executionTime": 73,
    "lastSuccessfullyExecutedCode": "np.count_nonzero(df['re_buy']== 'More than once')"
   },
   "outputs": [
    {
     "data": {
      "text/plain": [
       "390"
      ]
     },
     "execution_count": 17,
     "metadata": {},
     "output_type": "execute_result"
    }
   ],
   "source": [
    "np.count_nonzero(df['re_buy']== 'More than once')"
   ]
  },
  {
   "cell_type": "markdown",
   "id": "bbc7b2cf-3a28-4263-b9ea-238a53a9b3b0",
   "metadata": {},
   "source": [
    "## observation:\n",
    "There are 390 products which are being purchased more than once!"
   ]
  },
  {
   "cell_type": "markdown",
   "id": "633c2e56-7565-4daa-99e9-635baf1f1b49",
   "metadata": {},
   "source": [
    "## 2. Do the products being purchased again have better sales than others?"
   ]
  },
  {
   "cell_type": "code",
   "execution_count": 18,
   "id": "b67105ef-5539-4cae-a046-edc16f21e0e3",
   "metadata": {
    "executionTime": 89,
    "lastSuccessfullyExecutedCode": "#Group the 're_buy' column by sum of total sales using the 'sales' column\ndf.groupby('re_buy')['sales'].sum()"
   },
   "outputs": [
    {
     "data": {
      "text/plain": [
       "re_buy\n",
       "More than once    45587000\n",
       "Once              51125000\n",
       "Name: sales, dtype: int64"
      ]
     },
     "execution_count": 18,
     "metadata": {},
     "output_type": "execute_result"
    }
   ],
   "source": [
    "#Group the 're_buy' column by sum of total sales using the 'sales' column\n",
    "df.groupby('re_buy')['sales'].sum()"
   ]
  },
  {
   "cell_type": "code",
   "execution_count": 34,
   "id": "c9bc9f54-883a-49ac-9619-13d9ed296cbd",
   "metadata": {
    "executionTime": 250,
    "lastSuccessfullyExecutedCode": "df.groupby('re_buy')['sales'].sum().plot(kind='bar', figsize=(5,6), ylabel='Total Sales',rot=0, xlabel='Re_buy Option', title='Purchased More Than Once Vs Purchased Once')\nplt.ticklabel_format(style='plain', axis='y')\nplt.show()"
   },
   "outputs": [
    {
     "data": {
      "image/png": "[encoded data removed]",
      "text/plain": [
       "<Figure size 500x600 with 1 Axes>"
      ]
     },
     "metadata": {},
     "output_type": "display_data"
    }
   ],
   "source": [
    "df.groupby('re_buy')['sales'].sum().plot(kind='bar', figsize=(5,6), ylabel='Total Sales',rot=0, xlabel='Re_buy Option', title='Purchased More Than Once Vs Purchased Once')\n",
    "plt.ticklabel_format(style='plain', axis='y')\n",
    "plt.show()"
   ]
  },
  {
   "cell_type": "markdown",
   "id": "5b84adce-30b9-47c3-a2b6-f87f0d32766f",
   "metadata": {},
   "source": [
    "## observation:\n",
    "Looking at the barchart above, we can see that products that were purchased once generated more revenue than products purchased more than once, over fifty million dollars ($50,000,000). The marketing team should these products in the pet box subscription."
   ]
  },
  {
   "cell_type": "markdown",
   "id": "bf32f51a-85ae-4e03-877d-119e5a423b30",
   "metadata": {},
   "source": [
    "## 3. What products are more likely to be purchased again for different types of pets?"
   ]
  },
  {
   "cell_type": "code",
   "execution_count": 55,
   "id": "9aa5a4e9-db1d-49dd-9276-72d19ac5b534",
   "metadata": {
    "executionTime": 1090,
    "lastSuccessfullyExecutedCode": "fish_df= df[df['pet_type']=='fish']\nfish_df.groupby('product_category')['product_id'].count().plot(kind='bar', ylabel='Frequency', title='Fish')\nplt.show()\n\ndog_df= df[df['pet_type']=='dog']\ndog_df.groupby('product_category')['product_id'].count().plot(kind='bar', ylabel='Frequency', title='Dog', color='Brown')\nplt.show()\n\nbird_df= df[df['pet_type']=='bird']\nbird_df.groupby('product_category')['product_id'].count().plot(kind='bar', ylabel='Frequency', title='Bird', color='Green')\nplt.show()\n\ncat_df= df[df['pet_type']=='cat']\ncat_df.groupby('product_category')['product_id'].count().plot(kind='bar', ylabel='Frequency', title='Cat', color='Orange')\nplt.show()\n"
   },
   "outputs": [
    {
     "data": {
      "image/png": "[encoded data removed]",
      "text/plain": [
       "<Figure size 640x480 with 1 Axes>"
      ]
     },
     "metadata": {},
     "output_type": "display_data"
    },
    {
     "data": {
      "image/png": "[encoded data removed]",
      "text/plain": [
       "<Figure size 640x480 with 1 Axes>"
      ]
     },
     "metadata": {},
     "output_type": "display_data"
    },
    {
     "data": {
      "image/png": "[encoded data removed]",
      "text/plain": [
       "<Figure size 640x480 with 1 Axes>"
      ]
     },
     "metadata": {},
     "output_type": "display_data"
    },
    {
     "data": {
      "image/png": "[encoded data removed]",
      "text/plain": [
       "<Figure size 640x480 with 1 Axes>"
      ]
     },
     "metadata": {},
     "output_type": "display_data"
    }
   ],
   "source": [
    "fish_df= df[df['pet_type']=='fish']\n",
    "fish_df.groupby('product_category')['product_id'].count().plot(kind='bar', ylabel='Frequency', title='Fish')\n",
    "plt.show()\n",
    "\n",
    "dog_df= df[df['pet_type']=='dog']\n",
    "dog_df.groupby('product_category')['product_id'].count().plot(kind='bar', ylabel='Frequency', title='Dog', color='Brown')\n",
    "plt.show()\n",
    "\n",
    "bird_df= df[df['pet_type']=='bird']\n",
    "bird_df.groupby('product_category')['product_id'].count().plot(kind='bar', ylabel='Frequency', title='Bird', color='Green')\n",
    "plt.show()\n",
    "\n",
    "cat_df= df[df['pet_type']=='cat']\n",
    "cat_df.groupby('product_category')['product_id'].count().plot(kind='bar', ylabel='Frequency', title='Cat', color='Orange')\n",
    "plt.show()\n"
   ]
  },
  {
   "cell_type": "markdown",
   "id": "f820d74e-1406-4e3d-8862-cb22acc009a4",
   "metadata": {},
   "source": [
    "## observation:\n",
    "- Toys and Snack were the most purchased category of products for fishes\n",
    "- Snack,Toys, and Equipment were the most purchased category of products for dogs\n",
    "- Equipment was the most purchased category of products for birds\n",
    "- Toys and Equipment were the most purchased category of products for cats"
   ]
  },
  {
   "cell_type": "markdown",
   "id": "2fa6a8d2-2d1a-49d4-b58f-a3fc38a5b26d",
   "metadata": {},
   "source": [
    "## Extra"
   ]
  },
  {
   "cell_type": "markdown",
   "id": "01166ed0-1033-4b94-b139-2219384ccfe1",
   "metadata": {},
   "source": [
    "## 4. How were PetMind's products rated?"
   ]
  },
  {
   "cell_type": "code",
   "execution_count": 51,
   "id": "5d5a8050-7496-40c8-b8fa-c06e4c06b0f5",
   "metadata": {
    "executionTime": 265,
    "lastSuccessfullyExecutedCode": "df['rating'].hist(alpha=0.8,bins=10)\nplt.ylabel('Frequency')\nplt.xlabel('Ratings')\nplt.show()"
   },
   "outputs": [
    {
     "data": {
      "image/png": "[encoded data removed]",
      "text/plain": [
       "<Figure size 640x480 with 1 Axes>"
      ]
     },
     "metadata": {},
     "output_type": "display_data"
    }
   ],
   "source": [
    "df['rating'].hist(alpha=0.8,bins=10)\n",
    "plt.ylabel('Frequency')\n",
    "plt.xlabel('Ratings')\n",
    "plt.show()"
   ]
  },
  {
   "cell_type": "markdown",
   "id": "3bc7651d-e882-466c-b8a6-e3d8df5187f2",
   "metadata": {},
   "source": [
    "## observation:\n",
    "In general, the company's rating is great, as over 200 products were rated 10, this signifies the company produce good products and great services. Although certain products were rated as low as 1, such products should either be carefuly reviewed or discontinued. "
   ]
  },
  {
   "cell_type": "markdown",
   "id": "79994f3e-224f-413e-ba22-4de50c56ece5",
   "metadata": {},
   "source": [
    "## 5. Check the correlation between sales and rating"
   ]
  },
  {
   "cell_type": "code",
   "execution_count": 58,
   "id": "977d55bf-f14a-427c-881f-9812699dad2a",
   "metadata": {
    "executionTime": 861,
    "lastSuccessfullyExecutedCode": "import seaborn as sns"
   },
   "outputs": [],
   "source": [
    "import seaborn as sns"
   ]
  },
  {
   "cell_type": "code",
   "execution_count": 59,
   "id": "609320b6-e7a0-41b8-b004-391ab0b59b7f",
   "metadata": {
    "executionTime": 383,
    "lastSuccessfullyExecutedCode": "sns.heatmap(df.corr())"
   },
   "outputs": [
    {
     "data": {
      "text/plain": [
       "<AxesSubplot:>"
      ]
     },
     "execution_count": 59,
     "metadata": {},
     "output_type": "execute_result"
    },
    {
     "data": {
      "image/png": "[encoded data removed]",
      "text/plain": [
       "<Figure size 640x480 with 2 Axes>"
      ]
     },
     "metadata": {},
     "output_type": "display_data"
    }
   ],
   "source": [
    "sns.heatmap(df.corr())"
   ]
  },
  {
   "cell_type": "markdown",
   "id": "34699abd-0473-401e-b83e-ef9f72767299",
   "metadata": {},
   "source": [
    "## Observation:\n",
    "There isnt any correlation between sales and the ratings"
   ]
  },
  {
   "cell_type": "markdown",
   "id": "9ac7012b-b99b-40dc-aa0c-260f581c3541",
   "metadata": {},
   "source": [
    "# Summary\n",
    "The innovation behind the Pet box subscription is a great one and is highhly commended, however, my recommendation to The chief marketing officer based on the question asked \"whether the list should only include the products being purchased more than once.\", are as follow:\n",
    "-  Products that were purchased just once should be included in the pet box subscription as they generate more revenue in sales\n",
    "- The company should also focus on priotizing top selling product categories across all pet type\n",
    "- Lastly, products that were below the rating of 4 should be carefully reviewed or discontinued, so as to continue to improve customers services"
   ]
  }
 ],
 "metadata": {
  "colab": {
   "name": "Welcome to DataCamp Workspaces.ipynb",
   "provenance": []
  },
  "kernelspec": {
   "display_name": "Python 3",
   "language": "python",
   "name": "python3"
  },
  "language_info": {
   "codemirror_mode": {
    "name": "ipython",
    "version": 3
   },
   "file_extension": ".py",
   "mimetype": "text/x-python",
   "name": "python",
   "nbconvert_exporter": "python",
   "pygments_lexer": "ipython3",
   "version": "3.8.8"
  }
 },
 "nbformat": 4,
 "nbformat_minor": 5
}
